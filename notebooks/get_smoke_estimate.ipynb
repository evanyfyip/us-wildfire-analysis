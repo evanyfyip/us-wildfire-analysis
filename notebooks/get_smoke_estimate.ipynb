{
 "cells": [
  {
   "cell_type": "code",
   "execution_count": 1,
   "metadata": {},
   "outputs": [],
   "source": [
    "import geopandas as gpd\n",
    "from shapely.geometry import Polygon\n",
    "from pyproj import Transformer, Geod\n",
    "import pandas as pd\n",
    "import sys\n",
    "import ast\n",
    "import numpy as np\n",
    "import matplotlib.pyplot as plt\n",
    "if \"..\" not in sys.path: sys.path.insert(0,\"..\")\n",
    "from wildfire.Reader import Reader as WFReader"
   ]
  },
  {
   "cell_type": "code",
   "execution_count": 8,
   "metadata": {},
   "outputs": [],
   "source": [
    "#\n",
    "#    Transform feature geometry data\n",
    "#\n",
    "#    The function takes one parameter, a list of ESRI:102008 coordinates that will be transformed to EPSG:4326\n",
    "#    The function returns a list of coordinates in EPSG:4326\n",
    "def convert_ring_to_epsg4326(ring_data=None):\n",
    "    converted_ring = list()\n",
    "    #\n",
    "    # We use a pyproj transformer that converts from ESRI:102008 to EPSG:4326 to transform the list of coordinates\n",
    "    to_epsg4326 = Transformer.from_crs(\"ESRI:102008\",\"EPSG:4326\")\n",
    "    # We'll run through the list transforming each ESRI:102008 x,y coordinate into a decimal degree lat,lon\n",
    "    for coord in ring_data:\n",
    "        lat,lon = to_epsg4326.transform(coord[0],coord[1])\n",
    "        new_coord = lat,lon\n",
    "        converted_ring.append(new_coord)\n",
    "    return converted_ring\n",
    "\n",
    "\n",
    "def shortest_distance_from_place_to_fire_perimeter(place=None,ring_data=None):\n",
    "    # convert the ring data to the right coordinate system\n",
    "    ring = convert_ring_to_epsg4326(ring_data)    \n",
    "    # create a epsg4326 compliant object - which is what the WGS84 ellipsoid is\n",
    "    geodcalc = Geod(ellps='WGS84')\n",
    "    closest_point = list()\n",
    "    # run through each point in the converted ring data\n",
    "    for point in ring:\n",
    "        # calculate the distance\n",
    "        d = geodcalc.inv(place[1],place[0],point[1],point[0])\n",
    "        # convert the distance to miles\n",
    "        distance_in_miles = d[2]*0.00062137\n",
    "        # if it's closer to the city than the point we have, save it\n",
    "        if not closest_point:\n",
    "            closest_point.append(distance_in_miles)\n",
    "            closest_point.append(point)\n",
    "        elif closest_point and closest_point[0]>distance_in_miles:\n",
    "            closest_point = list()\n",
    "            closest_point.append(distance_in_miles)\n",
    "            closest_point.append(point)\n",
    "    return closest_point"
   ]
  },
  {
   "cell_type": "code",
   "execution_count": 9,
   "metadata": {},
   "outputs": [],
   "source": [
    "def fire_within_time_range(feature, start_year=1963, end_year=2023):\n",
    "    fire_year = int(feature['attributes']['Fire_Year'])\n",
    "    return (start_year <= fire_year) & (fire_year <= end_year)\n",
    "\n",
    "def fire_within_distance_range(feature, place, max_distance=1250):\n",
    "    \"\"\"_summary_\n",
    "\n",
    "    Parameters\n",
    "    ----------\n",
    "    feature : dictionary\n",
    "        _description_\n",
    "    place : list of floats\n",
    "        (latitude, longitude)\n",
    "    \"\"\"\n",
    "    ring_data = feature['geometry']['rings'][0]\n",
    "    distance = shortest_distance_from_place_to_fire_perimeter(place,ring_data)[0]\n",
    "    return distance, distance <= max_distance"
   ]
  },
  {
   "cell_type": "code",
   "execution_count": 2,
   "metadata": {},
   "outputs": [
    {
     "data": {
      "text/html": [
       "<div>\n",
       "<style scoped>\n",
       "    .dataframe tbody tr th:only-of-type {\n",
       "        vertical-align: middle;\n",
       "    }\n",
       "\n",
       "    .dataframe tbody tr th {\n",
       "        vertical-align: top;\n",
       "    }\n",
       "\n",
       "    .dataframe thead th {\n",
       "        text-align: right;\n",
       "    }\n",
       "</style>\n",
       "<table border=\"1\" class=\"dataframe\">\n",
       "  <thead>\n",
       "    <tr style=\"text-align: right;\">\n",
       "      <th></th>\n",
       "      <th>LastName</th>\n",
       "      <th>FirstName</th>\n",
       "      <th>State</th>\n",
       "      <th>City</th>\n",
       "      <th>Population</th>\n",
       "      <th>County</th>\n",
       "    </tr>\n",
       "  </thead>\n",
       "  <tbody>\n",
       "    <tr>\n",
       "      <th>57</th>\n",
       "      <td>Yip</td>\n",
       "      <td>Evan Yuen Fei</td>\n",
       "      <td>Montana</td>\n",
       "      <td>Missoula</td>\n",
       "      <td>76955</td>\n",
       "      <td>Missoula</td>\n",
       "    </tr>\n",
       "  </tbody>\n",
       "</table>\n",
       "</div>"
      ],
      "text/plain": [
       "   LastName      FirstName    State      City  Population    County\n",
       "57      Yip  Evan Yuen Fei  Montana  Missoula       76955  Missoula"
      ]
     },
     "execution_count": 2,
     "metadata": {},
     "output_type": "execute_result"
    }
   ],
   "source": [
    "fire_assignments = pd.read_excel(\"../Wildfire Cities Assignments.xlsx\")\n",
    "assignment = fire_assignments[fire_assignments['LastName'] == \"Yip\"]\n",
    "assignment"
   ]
  },
  {
   "cell_type": "code",
   "execution_count": 3,
   "metadata": {},
   "outputs": [],
   "source": [
    "# Geocoordinates of Missoula, Montana\n",
    "city_coordinates = [46.8721, -113.9940]"
   ]
  },
  {
   "cell_type": "code",
   "execution_count": 4,
   "metadata": {},
   "outputs": [],
   "source": [
    "\n",
    "FINAL_DATA_FILENAME = \"../GeoJSON Exports/USGS_Wildland_Fire_Combined_Dataset.json\"\n",
    "wfreader = WFReader(FINAL_DATA_FILENAME)"
   ]
  },
  {
   "cell_type": "code",
   "execution_count": null,
   "metadata": {},
   "outputs": [],
   "source": [
    "valid_feature_list = list()\n",
    "failed_feature_list = list()\n",
    "distances = list()\n",
    "feature_count = 0\n",
    "valid_feature_count = 0\n",
    "# A rewind() on the reader object makes sure we're at the start of the feature list\n",
    "# This way, we can execute this cell multiple times and get the same result \n",
    "wfreader.rewind()\n",
    "# Now, read through each of the features, saving them as dictionaries into a list\n",
    "feature = wfreader.next()\n",
    "while feature:\n",
    "    feature_count += 1\n",
    "    fire_year = int(feature['attributes']['Fire_Year'])\n",
    "    # Only add fires within the last 60 years\n",
    "    try:\n",
    "        if fire_within_time_range(feature):\n",
    "            print(\"year\", int(feature['attributes']['Fire_Year']))\n",
    "            distance, in_range = fire_within_distance_range(feature, city_coordinates)\n",
    "            if in_range:\n",
    "                valid_feature_list.append(feature)\n",
    "                distances.append(distance)\n",
    "                valid_feature_count += 1\n",
    "                print(valid_feature_count)\n",
    "    except Exception as E:\n",
    "        print(E)\n",
    "        failed_feature_list.append(feature)\n",
    "    feature = wfreader.next()\n",
    "#    Print the number of items (features) we think we loaded\n",
    "print(f\"Loaded a total of {valid_feature_count} features\")\n",
    "#    Just a validation check - did all the items we loaded get into the list?\n",
    "print(f\"Variable 'feature_list' contains {len(valid_feature_list)} features\")"
   ]
  },
  {
   "cell_type": "code",
   "execution_count": null,
   "metadata": {},
   "outputs": [],
   "source": [
    "feature_attributes = [feature['attributes'] for feature in valid_feature_list]\n",
    "feature_geometries = [Polygon(feature['geometry']['rings'][0]) for feature in valid_feature_list]\n",
    "feature_df = gpd.GeoDataFrame(feature_attributes)\n",
    "feature_df['geometry'] = feature_geometries\n",
    "feature_df.set_geometry(col='geometry', inplace=True)\n",
    "# Saving the file to geojson format\n",
    "feature_df.to_file('./valid_wildfire_features2.geojson', driver='GeoJSON')\n",
    "\n",
    "# Save distances to file\n",
    "pd.DataFrame({'distances':distances}).to_csv('./distances.csv', index=False)\n",
    "\n",
    "# Write failed features\n",
    "failed_feature_attributes = [feature['attributes'] for feature in failed_feature_list]\n",
    "failed_feature_geometries = [feature['geometry'] for feature in failed_feature_list]\n",
    "failed_feature_df = pd.DataFrame(failed_feature_attributes)\n",
    "failed_feature_df['geometry'] = failed_feature_geometries\n",
    "failed_feature_df.to_csv('./failed_wildfire_features2.csv')"
   ]
  },
  {
   "cell_type": "markdown",
   "metadata": {},
   "source": [
    "### Loading the extracted, cleaned geojson and csv files"
   ]
  },
  {
   "cell_type": "code",
   "execution_count": null,
   "metadata": {},
   "outputs": [],
   "source": [
    "valid_distances = pd.read_csv('./distances.csv')\n",
    "failed_features = pd.read_csv('./failed_wildfire_features2.csv')\n",
    "gdf = gpd.read_file('./valid_wildfire_features2.geojson', engine='pyogrio')\n",
    "gdf['distances'] = valid_distances['distances']"
   ]
  },
  {
   "cell_type": "code",
   "execution_count": null,
   "metadata": {},
   "outputs": [],
   "source": [
    "fires = []\n",
    "distances = []\n",
    "geometries = []\n",
    "for i, feature in enumerate(failed_features['geometry']):\n",
    "    ring_data = ast.literal_eval(feature)['curveRings'][0]\n",
    "    # print(ring_data[0])\n",
    "    clean_ring_data = list()\n",
    "    for j, val in enumerate(ring_data):\n",
    "        if isinstance(val, list):\n",
    "            clean_ring_data.append(val)\n",
    "    distance = shortest_distance_from_place_to_fire_perimeter(city_coordinates, clean_ring_data)\n",
    "    # Checking distances\n",
    "    fires.append(distance[0] <= 1250)\n",
    "    if distance[0] <= 1250:\n",
    "        distances.append(distance[0])\n",
    "        geometries.append(Polygon(clean_ring_data))"
   ]
  },
  {
   "cell_type": "code",
   "execution_count": null,
   "metadata": {},
   "outputs": [],
   "source": [
    "close_fires = failed_features.iloc[fires, :]\n",
    "close_fires['geometry'] = geometries\n",
    "close_fires['distances'] = distances"
   ]
  },
  {
   "cell_type": "code",
   "execution_count": null,
   "metadata": {},
   "outputs": [],
   "source": [
    "# Concatenating the initial pass fires and the failed fires together\n",
    "fire_gdf = pd.concat([gdf, close_fires])\n",
    "fire_gdf.to_file('../data_intermediate/wildfire_combine.geojson', driver='GeoJSON')\n"
   ]
  },
  {
   "cell_type": "markdown",
   "metadata": {},
   "source": [
    "### Step 1: Create fire smoke estimates\n",
    "What are the estimated smoke impacts on your assigned city for the last 60 years."
   ]
  },
  {
   "cell_type": "markdown",
   "metadata": {},
   "source": [
    "I will first filter the dataset down to only `Wildfire`, `Likely Wildfire` and `Unknown - Likely Wildfire` fire types because we are interested in smoke estimates of **wildfires** not prescribed fires."
   ]
  },
  {
   "cell_type": "code",
   "execution_count": null,
   "metadata": {},
   "outputs": [
    {
     "data": {
      "text/html": [
       "<div>\n",
       "<style scoped>\n",
       "    .dataframe tbody tr th:only-of-type {\n",
       "        vertical-align: middle;\n",
       "    }\n",
       "\n",
       "    .dataframe tbody tr th {\n",
       "        vertical-align: top;\n",
       "    }\n",
       "\n",
       "    .dataframe thead th {\n",
       "        text-align: right;\n",
       "    }\n",
       "</style>\n",
       "<table border=\"1\" class=\"dataframe\">\n",
       "  <thead>\n",
       "    <tr style=\"text-align: right;\">\n",
       "      <th></th>\n",
       "      <th>OBJECTID</th>\n",
       "    </tr>\n",
       "    <tr>\n",
       "      <th>Assigned_Fire_Type</th>\n",
       "      <th></th>\n",
       "    </tr>\n",
       "  </thead>\n",
       "  <tbody>\n",
       "    <tr>\n",
       "      <th>Likely Wildfire</th>\n",
       "      <td>4682</td>\n",
       "    </tr>\n",
       "    <tr>\n",
       "      <th>Prescribed Fire</th>\n",
       "      <td>20636</td>\n",
       "    </tr>\n",
       "    <tr>\n",
       "      <th>Unknown - Likely Prescribed Fire</th>\n",
       "      <td>1656</td>\n",
       "    </tr>\n",
       "    <tr>\n",
       "      <th>Unknown - Likely Wildfire</th>\n",
       "      <td>157</td>\n",
       "    </tr>\n",
       "    <tr>\n",
       "      <th>Wildfire</th>\n",
       "      <td>53587</td>\n",
       "    </tr>\n",
       "  </tbody>\n",
       "</table>\n",
       "</div>"
      ],
      "text/plain": [
       "                                  OBJECTID\n",
       "Assigned_Fire_Type                        \n",
       "Likely Wildfire                       4682\n",
       "Prescribed Fire                      20636\n",
       "Unknown - Likely Prescribed Fire      1656\n",
       "Unknown - Likely Wildfire              157\n",
       "Wildfire                             53587"
      ]
     },
     "metadata": {},
     "output_type": "display_data"
    }
   ],
   "source": [
    "fire_gdf[['Assigned_Fire_Type', 'OBJECTID']].groupby('Assigned_Fire_Type').count()"
   ]
  },
  {
   "cell_type": "markdown",
   "metadata": {},
   "source": [
    "I will define my smoke estimate for that year as the following:\n",
    "\n",
    "$\\textnormal{smoke estimate} = \\textnormal{number of fires that year}  * \\textnormal{acres burned} * \\textnormal{distance from city}$\n",
    "\n",
    "$$SE(i) = x = \\begin{cases}\n",
    "   \\sum_{j=0}^{n}(1*\\textnormal{acres}_{ij} / \\textnormal{distance}_{ij} ) &\\text{;if }  wildfire = 1\\\\\n",
    "   \\sum_{j=0}^{n}(0.25*\\textnormal{acres}_{ij} / \\textnormal{distance}_{ij} ) &\\text{;if } wildfire = 0\n",
    "\\end{cases}\n",
    "\n",
    "$$\n",
    "\n",
    "Where:\n",
    "- $n$ is the number of wildfires\n",
    "- year $i$. \n",
    "- acres = sigmoid((acres - mean(acres))/stdev(acres))\n",
    "- distance = sigmoid((distance - mean(distance))/stdev(distance))\n"
   ]
  },
  {
   "cell_type": "code",
   "execution_count": null,
   "metadata": {},
   "outputs": [],
   "source": [
    "features = ['OBJECTID', 'Fire_Year', 'GIS_Acres', 'distances', 'Assigned_Fire_Type']\n",
    "fire_features = fire_gdf[features]\n",
    "fire_features['fire_type'] = np.where(fire_features['Assigned_Fire_Type'].isin(['Wildfire', 'Unknown - Likely Wildfire', 'Likely Wildfire']), 1, 0.25)"
   ]
  },
  {
   "cell_type": "code",
   "execution_count": null,
   "metadata": {},
   "outputs": [],
   "source": [
    "def sigmoid(x):\n",
    "    return 1/(1 + np.exp(-x)) \n",
    "\n",
    "def StandardScaler(df, columns):\n",
    "    for col in columns:\n",
    "        mean = df[col].mean()\n",
    "        sd = df[col].std()\n",
    "        df[f\"{col}_scaled\"] = sigmoid((df[col] - mean) / sd)\n",
    "    return df\n",
    "\n",
    "def smoke_estimate(acres, distance, fire_type):\n",
    "    return acres / distance * fire_type\n",
    "\n",
    "fire_features.columns = ['id', 'year', 'acres', 'distance', 'fire_type', 'type_val']\n",
    "fire_scaled = StandardScaler(fire_features, ['acres', 'distance'])\n",
    "\n",
    "smoke_estimate_df = fire_scaled.assign(smoke_estimate = lambda row: smoke_estimate(row['acres_scaled'], row['distance_scaled'], row['type_val']))\n",
    "smoke_estimate_df = smoke_estimate_df[['year', 'smoke_estimate']].groupby('year').sum().reset_index()\n",
    "\n",
    "# Saving smoke estimate to dataframe\n",
    "smoke_estimate_df.to_csv('../data_intermediate/smoke_estimate.csv', index=False)"
   ]
  }
 ],
 "metadata": {
  "kernelspec": {
   "display_name": "msds_sandbox",
   "language": "python",
   "name": "python3"
  },
  "language_info": {
   "codemirror_mode": {
    "name": "ipython",
    "version": 3
   },
   "file_extension": ".py",
   "mimetype": "text/x-python",
   "name": "python",
   "nbconvert_exporter": "python",
   "pygments_lexer": "ipython3",
   "version": "3.10.9"
  }
 },
 "nbformat": 4,
 "nbformat_minor": 2
}
